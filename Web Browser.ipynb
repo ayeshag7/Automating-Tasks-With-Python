{
 "cells": [
  {
   "cell_type": "code",
   "execution_count": null,
   "metadata": {},
   "outputs": [],
   "source": [
    "from tkinter import *\n",
    "import tkinterweb \n",
    "import sys\n",
    "\n",
    "class Browser(Tk):\n",
    "    def __init__(self):\n",
    "        super(Browser,self).__init__()\n",
    "        self.title(\"Tk Browser\")\n",
    "        try:\n",
    "            browser = tkinterweb.HtmlFrame(self)\n",
    "            browser.load_website(\"https://google.com\")\n",
    "            browser.pack(fill=\"both\",expand=True)\n",
    "        except Exception:\n",
    "            sys.exit()\n",
    "            \n",
    "            \n",
    "def main():\n",
    "    browser = Browser()\n",
    "    browser.mainloop()\n",
    "    \n",
    "if __name__ == \"__main__\":\n",
    "    main()"
   ]
  }
 ],
 "metadata": {
  "language_info": {
   "name": "python"
  }
 },
 "nbformat": 4,
 "nbformat_minor": 2
}
