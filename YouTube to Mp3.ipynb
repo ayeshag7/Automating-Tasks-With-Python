{
 "cells": [
  {
   "cell_type": "code",
   "execution_count": 1,
   "id": "d1c02072",
   "metadata": {},
   "outputs": [],
   "source": [
    "# Importing the required packages.\n",
    "from pytube import YouTube\n",
    "import os"
   ]
  },
  {
   "cell_type": "code",
   "execution_count": 2,
   "id": "cb9854be",
   "metadata": {},
   "outputs": [
    {
     "name": "stdout",
     "output_type": "stream",
     "text": [
      "Enter video's url: https://youtu.be/a7GITgqwDVg\n",
      "Enter the path if you don't want to save it in the current directory: \n",
      "Charlie Puth - Left And Right (feat. Jung Kook of BTS) [Official Video] has been converted to mp3 format and downloaded.\n"
     ]
    }
   ],
   "source": [
    "# url input.\n",
    "video_url = YouTube(str(input(\"Enter video's url: \")))\n",
    "\n",
    "# Extracting audio from the video.\n",
    "video = video_url.streams.filter(only_audio=True).first()\n",
    "\n",
    "# Specifying path for saving the file.\n",
    "path = str(input(\"Enter the path if you don't want to save it in the current directory: \")) or \".\"\n",
    "\n",
    "# Downloading the file.\n",
    "file = video.download(output_path=path)\n",
    "\n",
    "# Saving the file.\n",
    "base, ext = os.path.splitext(file)\n",
    "audio_file = base + \".mp3\"\n",
    "os.rename(file, audio_file)\n",
    "\n",
    "# Printing that the file has been saved.\n",
    "print(f\"{video_url.title} has been converted to mp3 format and downloaded.\")"
   ]
  }
 ],
 "metadata": {
  "kernelspec": {
   "display_name": "Python 3 (ipykernel)",
   "language": "python",
   "name": "python3"
  },
  "language_info": {
   "codemirror_mode": {
    "name": "ipython",
    "version": 3
   },
   "file_extension": ".py",
   "mimetype": "text/x-python",
   "name": "python",
   "nbconvert_exporter": "python",
   "pygments_lexer": "ipython3",
   "version": "3.9.7"
  }
 },
 "nbformat": 4,
 "nbformat_minor": 5
}
