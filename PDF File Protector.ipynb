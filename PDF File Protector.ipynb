{
 "cells": [
  {
   "cell_type": "code",
   "execution_count": 1,
   "id": "5a47d634",
   "metadata": {},
   "outputs": [],
   "source": [
    "# Importing the required packages.\n",
    "from PyPDF2 import PdfFileWriter, PdfFileReader\n",
    "import getpass"
   ]
  },
  {
   "cell_type": "code",
   "execution_count": null,
   "id": "7d79264e",
   "metadata": {},
   "outputs": [],
   "source": [
    "# Creating a 'PdfFileWriter' object.\n",
    "pdfwriter = PdfFileWriter()\n",
    "\n",
    "# Reading the pdf file.\n",
    "pdf = PdfFileReader(\"E:\\\\PdfFile.pdf\")\n",
    "\n",
    "for page_num in range(pdf.numPages):\n",
    "    pdfwriter.addPage(pdf.getPage(page_num))\n",
    "    \n",
    "# Taking the password as an input from the user.\n",
    "password = getpass.getpass(prompt=\"Enter Password: \")\n",
    "\n",
    "# Encrypting the file.\n",
    "pdfwriter.encrypt(password)\n",
    "\n",
    "# Making changes to the pdf file.\n",
    "with open(\"E:\\\\PdfFile.pdf\", \"wb\") as file:\n",
    "    pdfwriter.write(file)\n",
    "\n",
    "# Displaying success message.\n",
    "print(\"The file is now protected with a password.\")"
   ]
  }
 ],
 "metadata": {
  "kernelspec": {
   "display_name": "Python 3 (ipykernel)",
   "language": "python",
   "name": "python3"
  },
  "language_info": {
   "codemirror_mode": {
    "name": "ipython",
    "version": 3
   },
   "file_extension": ".py",
   "mimetype": "text/x-python",
   "name": "python",
   "nbconvert_exporter": "python",
   "pygments_lexer": "ipython3",
   "version": "3.9.7"
  }
 },
 "nbformat": 4,
 "nbformat_minor": 5
}
