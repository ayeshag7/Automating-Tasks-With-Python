{
 "cells": [
  {
   "cell_type": "code",
   "execution_count": 1,
   "id": "18ac539f",
   "metadata": {},
   "outputs": [],
   "source": [
    "# Importing the required packages.\n",
    "import time\n",
    "from plyer import notification"
   ]
  },
  {
   "cell_type": "code",
   "execution_count": 2,
   "id": "21f4e651",
   "metadata": {},
   "outputs": [],
   "source": [
    "if __name__ == \"main\":\n",
    "    while True:\n",
    "        notification.notify(\n",
    "        title = \"Water!\",\n",
    "        message = \"Drink some water. You must be dehydrated!\",\n",
    "        timeout = 10\n",
    "        )\n",
    "        time.sleep(3600)"
   ]
  }
 ],
 "metadata": {
  "kernelspec": {
   "display_name": "Python 3 (ipykernel)",
   "language": "python",
   "name": "python3"
  },
  "language_info": {
   "codemirror_mode": {
    "name": "ipython",
    "version": 3
   },
   "file_extension": ".py",
   "mimetype": "text/x-python",
   "name": "python",
   "nbconvert_exporter": "python",
   "pygments_lexer": "ipython3",
   "version": "3.9.12"
  }
 },
 "nbformat": 4,
 "nbformat_minor": 5
}
