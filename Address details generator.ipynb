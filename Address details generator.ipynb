{
 "cells": [
  {
   "cell_type": "code",
   "execution_count": 1,
   "id": "bd035251",
   "metadata": {},
   "outputs": [],
   "source": [
    "# Importing the required packages.\n",
    "from geopy.geocoders import Nominatim"
   ]
  },
  {
   "cell_type": "code",
   "execution_count": 2,
   "id": "e739b8c9",
   "metadata": {},
   "outputs": [
    {
     "name": "stdout",
     "output_type": "stream",
     "text": [
      "Enter zipcode: 53480\n",
      "Zipcode: 53480\n",
      "Address Details: Vaiges, Mayenne, Pays de la Loire, France métropolitaine, 53480, France\n"
     ]
    }
   ],
   "source": [
    "# Using Nominatim API.\n",
    "address_locator = Nominatim(user_agent='geoapiExercises')\n",
    "\n",
    "# Taking zipcode from input.\n",
    "zipcode_input = input(\"Enter zipcode: \")\n",
    "zipcode = zipcode_input\n",
    "\n",
    "# Using geocode().\n",
    "address = address_locator.geocode(zipcode)\n",
    "\n",
    "# Displaying the address details.\n",
    "print(f\"Zipcode: {zipcode}\")\n",
    "print(f\"Address Details: {address}\")"
   ]
  }
 ],
 "metadata": {
  "kernelspec": {
   "display_name": "Python 3 (ipykernel)",
   "language": "python",
   "name": "python3"
  },
  "language_info": {
   "codemirror_mode": {
    "name": "ipython",
    "version": 3
   },
   "file_extension": ".py",
   "mimetype": "text/x-python",
   "name": "python",
   "nbconvert_exporter": "python",
   "pygments_lexer": "ipython3",
   "version": "3.9.7"
  }
 },
 "nbformat": 4,
 "nbformat_minor": 5
}
