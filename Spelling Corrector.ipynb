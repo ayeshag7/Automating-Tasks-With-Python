{
 "cells": [
  {
   "cell_type": "code",
   "execution_count": 1,
   "id": "874ff90d",
   "metadata": {},
   "outputs": [],
   "source": [
    "# Importing the required libraries.\n",
    "from textblob import TextBlob"
   ]
  },
  {
   "cell_type": "code",
   "execution_count": 2,
   "id": "909eecb3",
   "metadata": {},
   "outputs": [],
   "source": [
    "# Parsing the given string into individual characters.\n",
    "def parse_string(string):\n",
    "    charc_list = list(string.split())\n",
    "    return charc_list"
   ]
  },
  {
   "cell_type": "code",
   "execution_count": 3,
   "id": "433c10ed",
   "metadata": {},
   "outputs": [
    {
     "name": "stdout",
     "output_type": "stream",
     "text": [
      "Enter word: computdef\n",
      "Wrong Word: computdef\n",
      "Correct Word:\n",
      "computer "
     ]
    }
   ],
   "source": [
    "# Take input from user.\n",
    "input_word = input(\"Enter word: \")\n",
    "\n",
    "word_charc = parse_string(input_word)\n",
    "\n",
    "correct_word_charc = []\n",
    "\n",
    "for i in word_charc:\n",
    "    correct_word_charc.append(TextBlob(i))\n",
    "    \n",
    "# Printing the input and corrected strings.\n",
    "print(f\"Wrong Word: {input_word}\")\n",
    "print(f\"Correct Word:\")\n",
    "for i in correct_word_charc:\n",
    "    print(i.correct(), end=\" \")"
   ]
  }
 ],
 "metadata": {
  "kernelspec": {
   "display_name": "Python 3 (ipykernel)",
   "language": "python",
   "name": "python3"
  },
  "language_info": {
   "codemirror_mode": {
    "name": "ipython",
    "version": 3
   },
   "file_extension": ".py",
   "mimetype": "text/x-python",
   "name": "python",
   "nbconvert_exporter": "python",
   "pygments_lexer": "ipython3",
   "version": "3.9.7"
  }
 },
 "nbformat": 4,
 "nbformat_minor": 5
}
