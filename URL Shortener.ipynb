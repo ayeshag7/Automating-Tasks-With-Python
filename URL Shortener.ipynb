{
 "cells": [
  {
   "cell_type": "code",
   "execution_count": 1,
   "id": "67452429",
   "metadata": {},
   "outputs": [],
   "source": [
    "# Importing the required libraries.\n",
    "import pyshorteners"
   ]
  },
  {
   "cell_type": "code",
   "execution_count": 2,
   "id": "5e7506d9",
   "metadata": {},
   "outputs": [
    {
     "name": "stdout",
     "output_type": "stream",
     "text": [
      "Enter URL: https://www.google.com/search?q=freecodecamp&sxsrf=ALiCzsaD8p0mC57v8kfmndKQ-cYxJjMLhg%3A1663576747238&source=hp&ei=qyooY-O8DJCEaq6xuMgB&iflsig=AJiK0e8AAAAAYyg4u1m1-ubGnVK4Sv1mTu3jjSKZP2Se&oq=FREECODE&gs_lcp=Cgdnd3Mtd2l6EAMYATIECAAQQzIKCAAQsQMQgwEQQzIFCAAQgAQyCggAEIAEEIcCEBQyBQgAEIAEMgUIABCABDIFCAAQgAQyBQgAEIAEMgUIABCABDIFCAAQgAQ6BAgjECc6EAguELEDEIMBEMcBENEDEEM6BAguEEM6BwguELEDEEM6CgguEMcBENEDEEM6BwgAELEDEEM6DQguELEDEIMBENQCEEM6DQguEMcBENEDEMkDEEM6CwgAEIAEELEDEIMBOgcIABCABBAKUABYvgtgvhloAHAAeACAAfACiAG_EZIBBTItMS42mAEAoAEB&sclient=gws-wiz\n",
      "Shortened URL: https://tinyurl.com/2lah8dqf\n"
     ]
    }
   ],
   "source": [
    "# Taking input from user.\n",
    "url = input(\"Enter URL: \")\n",
    "\n",
    "# Using TinyURL.\n",
    "tiny = pyshorteners.Shortener()\n",
    "\n",
    "# Shortening the URL.\n",
    "shortened_URL = tiny.tinyurl.short(url)\n",
    "\n",
    "# Displaying the shortened URL.\n",
    "print(f\"Shortened URL: {shortened_URL}\")"
   ]
  }
 ],
 "metadata": {
  "kernelspec": {
   "display_name": "Python 3 (ipykernel)",
   "language": "python",
   "name": "python3"
  },
  "language_info": {
   "codemirror_mode": {
    "name": "ipython",
    "version": 3
   },
   "file_extension": ".py",
   "mimetype": "text/x-python",
   "name": "python",
   "nbconvert_exporter": "python",
   "pygments_lexer": "ipython3",
   "version": "3.9.7"
  }
 },
 "nbformat": 4,
 "nbformat_minor": 5
}
