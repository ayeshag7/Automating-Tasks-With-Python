{
 "cells": [
  {
   "cell_type": "code",
   "execution_count": 1,
   "id": "b7d00a9b",
   "metadata": {},
   "outputs": [],
   "source": [
    "# Importing the required packages.\n",
    "import imageio"
   ]
  },
  {
   "cell_type": "code",
   "execution_count": null,
   "id": "9143aa62",
   "metadata": {},
   "outputs": [],
   "source": [
    "files = [\"image1.png\", \"image2.png\", \"image3.png\"]\n",
    "# Adding files of anytype.\n",
    "images = []\n",
    "for file in files:\n",
    "    images.append(imageio.imread(file))\n",
    "# Creating GIF.\n",
    "imageio.mimsave(\"ourgif.gif\", images, \"GIF\", duration=1)"
   ]
  }
 ],
 "metadata": {
  "kernelspec": {
   "display_name": "Python 3 (ipykernel)",
   "language": "python",
   "name": "python3"
  },
  "language_info": {
   "codemirror_mode": {
    "name": "ipython",
    "version": 3
   },
   "file_extension": ".py",
   "mimetype": "text/x-python",
   "name": "python",
   "nbconvert_exporter": "python",
   "pygments_lexer": "ipython3",
   "version": "3.9.7"
  }
 },
 "nbformat": 4,
 "nbformat_minor": 5
}
