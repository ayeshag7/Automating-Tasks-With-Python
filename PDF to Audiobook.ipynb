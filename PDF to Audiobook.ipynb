{
 "cells": [
  {
   "cell_type": "code",
   "execution_count": 1,
   "id": "678cc955",
   "metadata": {},
   "outputs": [],
   "source": [
    "# Importing the required packages.\n",
    "import PyPDF2\n",
    "import pyttsx3"
   ]
  },
  {
   "cell_type": "code",
   "execution_count": null,
   "id": "52aee1ff",
   "metadata": {},
   "outputs": [],
   "source": [
    "# Reading a PDF file from your computer by specifying the path and setting the read mode to binary.\n",
    "pdf_reader = PyPDF2.PdfFileReader(open(\"MyPDF.pdf\", \"rb\"))\n",
    "\n",
    "# Getting the handle to speaker i.e. creating a reference to pyttsx3.Engine instance.\n",
    "speaker = pyttsx3.init()\n",
    "\n",
    "# Splitting the PDF file into pages and reading one at a time.\n",
    "for page_number in range(pdf_reader.numPages):\n",
    "    text = pdf_reader.getPage(page_number).extractText()\n",
    "    # Generating speech.\n",
    "    speaker.say(text)\n",
    "    speaker.runAndWait()\n",
    "\n",
    "# Stopping the speaker after the complete audio has been created.\n",
    "speaker.stop()\n",
    "\n",
    "# Saving the audiobook to your computer.\n",
    "engine = pyttsx3.init()\n",
    "engine.save_to_file(text, \"E:\\MyAudio.mp3\")\n",
    "engine.runAndWait()"
   ]
  }
 ],
 "metadata": {
  "kernelspec": {
   "display_name": "Python 3 (ipykernel)",
   "language": "python",
   "name": "python3"
  },
  "language_info": {
   "codemirror_mode": {
    "name": "ipython",
    "version": 3
   },
   "file_extension": ".py",
   "mimetype": "text/x-python",
   "name": "python",
   "nbconvert_exporter": "python",
   "pygments_lexer": "ipython3",
   "version": "3.9.7"
  }
 },
 "nbformat": 4,
 "nbformat_minor": 5
}
